{
 "cells": [
  {
   "cell_type": "markdown",
   "metadata": {},
   "source": [
    "# Mahalanobis matching , Schelling‘s Model of Segregation"
   ]
  },
  {
   "cell_type": "markdown",
   "metadata": {},
   "source": [
    "Abu Ibne Bayazid (Imon)"
   ]
  },
  {
   "cell_type": "markdown",
   "metadata": {},
   "source": [
    "## Mahalanobis matching\n",
    "Another popular alternative to propensity score matching is \"Mahalanobis matching\". This is a greedy matching method, where each point of one group is matched to its nearest neighbor according to the Mahalanobis distance, see https://docs.scipy.org/doc/scipy-0.14.0/reference/generated/scipy.spatial.distance.mahalanobis.html for a formal definition. \n",
    "\n"
   ]
  },
  {
   "cell_type": "markdown",
   "metadata": {},
   "source": [
    "### Data preparation:\n",
    "We apply Mahalanobis matching to the quality of government (QoG) data from the last home assignment. For this task, first load the QoG data into a pandas dataframe and select the columns \"cname\",\"wdi_lifexp\" (life expectancy),\"wdi_popden\"(population density),\"gle_cgdpc\" (GDP per capita), \"bti_ds\" (Democracy Status).\n",
    "\n",
    "Remove all countries with missing values. Then put all remaining countries into two groups:\n",
    "* Full democratic (bti_ds > 8.0)\n",
    "* Not full democratic (else)"
   ]
  },
  {
   "cell_type": "code",
   "execution_count": 37,
   "metadata": {},
   "outputs": [
    {
     "name": "stdout",
     "output_type": "stream",
     "text": [
      "Full Democratic\n",
      "         cname  wdi_lifexp  wdi_popden   gle_cgdpc  bti_ds\n",
      "19    Botswana   64.694389    3.826466  12770.7300    8.25\n",
      "20      Brazil   74.958244   24.432844   9815.2402    8.05\n",
      "24    Bulgaria   74.465851   66.543274  13967.4500    8.15\n",
      "35       Chile   78.964485   23.689362  15519.0800    9.15\n",
      "42  Costa Rica   79.416855   93.176163   9485.7100    9.20\n",
      "\n",
      "Not Full Democratic\n",
      "         cname  wdi_lifexp  wdi_popden  gle_cgdpc    bti_ds\n",
      "0  Afghanistan   62.902683   50.176178  1282.6400  3.016667\n",
      "1      Albania   77.998390  105.441750  8516.7002  6.950000\n",
      "2      Algeria   75.635025   16.422152  5402.1699  4.800000\n",
      "4       Angola   60.806732   21.593380  3771.2000  4.250000\n",
      "6   Azerbaijan   71.724754  115.348816  9793.3096  3.483333\n"
     ]
    },
    {
     "name": "stderr",
     "output_type": "stream",
     "text": [
      "C:\\Users\\imon_\\Anaconda3\\lib\\site-packages\\ipykernel_launcher.py:13: SettingWithCopyWarning: \n",
      "A value is trying to be set on a copy of a slice from a DataFrame\n",
      "\n",
      "See the caveats in the documentation: http://pandas.pydata.org/pandas-docs/stable/indexing.html#indexing-view-versus-copy\n",
      "  del sys.path[0]\n"
     ]
    }
   ],
   "source": [
    "import numpy as np\n",
    "import math\n",
    "import pandas as pd\n",
    "import seaborn as sns\n",
    "from scipy.spatial.distance import mahalanobis\n",
    "import scipy as sp\n",
    "import pandas as pd\n",
    "from scipy.stats import pearsonr\n",
    "\n",
    "full_df = pd.read_csv(\"https://www.qogdata.pol.gu.se/data/qog_bas_cs_jan18.csv\")\n",
    "df = full_df[['cname','wdi_lifexp','wdi_popden','gle_cgdpc', 'bti_ds']]\n",
    "\n",
    "df.dropna(inplace=True)\n",
    "\n",
    "dem_df = df[df['bti_ds'] > 8.0]\n",
    "ntdem_df = df[df['bti_ds'] <= 8.0]\n",
    "\n",
    "print(\"Full Democratic\")\n",
    "print(dem_df.head())\n",
    "print()\n",
    "print(\"Not Full Democratic\")\n",
    "print(ntdem_df.head())"
   ]
  },
  {
   "cell_type": "markdown",
   "metadata": {},
   "source": [
    "### a) Compute the Mahalanobis distance matrix with respect to the attribute population density and gdp per capita."
   ]
  },
  {
   "cell_type": "code",
   "execution_count": 38,
   "metadata": {},
   "outputs": [
    {
     "name": "stdout",
     "output_type": "stream",
     "text": [
      "Full Democratic\n",
      "         cname  wdi_lifexp  wdi_popden   gle_cgdpc  bti_ds        MD\n",
      "19    Botswana   64.694389    3.826466  12770.7300    8.25  0.767197\n",
      "20      Brazil   74.958244   24.432844   9815.2402    8.05  1.255644\n",
      "24    Bulgaria   74.465851   66.543274  13967.4500    8.15  0.262083\n",
      "35       Chile   78.964485   23.689362  15519.0800    9.15  0.405422\n",
      "42  Costa Rica   79.416855   93.176163   9485.7100    9.20  1.160547\n",
      "\n",
      "Not Full Democratic\n",
      "         cname  wdi_lifexp  wdi_popden  gle_cgdpc    bti_ds        MD\n",
      "0  Afghanistan   62.902683   50.176178  1282.6400  3.016667  0.264456\n",
      "1      Albania   77.998390  105.441750  8516.7002  6.950000  0.021075\n",
      "2      Algeria   75.635025   16.422152  5402.1699  4.800000  0.071537\n",
      "4       Angola   60.806732   21.593380  3771.2000  4.250000  0.120654\n",
      "6   Azerbaijan   71.724754  115.348816  9793.3096  3.483333  0.044169\n"
     ]
    },
    {
     "name": "stderr",
     "output_type": "stream",
     "text": [
      "C:\\Users\\imon_\\Anaconda3\\lib\\site-packages\\ipykernel_launcher.py:23: SettingWithCopyWarning: \n",
      "A value is trying to be set on a copy of a slice from a DataFrame.\n",
      "Try using .loc[row_indexer,col_indexer] = value instead\n",
      "\n",
      "See the caveats in the documentation: http://pandas.pydata.org/pandas-docs/stable/indexing.html#indexing-view-versus-copy\n",
      "C:\\Users\\imon_\\Anaconda3\\lib\\site-packages\\ipykernel_launcher.py:24: SettingWithCopyWarning: \n",
      "A value is trying to be set on a copy of a slice from a DataFrame.\n",
      "Try using .loc[row_indexer,col_indexer] = value instead\n",
      "\n",
      "See the caveats in the documentation: http://pandas.pydata.org/pandas-docs/stable/indexing.html#indexing-view-versus-copy\n"
     ]
    }
   ],
   "source": [
    "new_dem_df = dem_df.iloc[:,2:4]\n",
    "new_ntdem_df = ntdem_df.iloc[:,2:4]\n",
    "\n",
    "cov_dem_df = new_dem_df.cov().values\n",
    "cov_ntdem_df = new_ntdem_df.cov().values\n",
    "\n",
    "cov_dem_df = sp.linalg.inv(cov_dem_df)\n",
    "cov_ntdem_df = sp.linalg.inv(cov_ntdem_df)\n",
    "\n",
    "mean_dem = new_dem_df.mean().values\n",
    "mean_ntdem = new_ntdem_df.mean().values\n",
    "\n",
    "MD_dem_df = []\n",
    "MD_ntdem_df = []\n",
    "\n",
    "for i in range(new_dem_df.shape[0]):\n",
    "    MD_dem_df.append(mahalanobis(new_dem_df.iloc[i,:],mean_dem,cov_dem_df) ** 2)\n",
    "\n",
    "for j in range(new_ntdem_df.shape[0]):\n",
    "    MD_ntdem_df.append(mahalanobis(new_ntdem_df.iloc[j,:],mean_ntdem,cov_ntdem_df) ** 2)\n",
    "\n",
    "#Adding mahalanobis distance to the dataframe as last column namely MD\n",
    "dem_df['MD'] = MD_dem_df\n",
    "ntdem_df['MD'] = MD_ntdem_df\n",
    "\n",
    "print(\"Full Democratic\")\n",
    "print(dem_df.head())\n",
    "print()\n",
    "print(\"Not Full Democratic\")\n",
    "print(ntdem_df.head())"
   ]
  },
  {
   "cell_type": "markdown",
   "metadata": {},
   "source": [
    "### b) Matching:\n",
    "Investigate if there is a statistical association between \"Full Democratic\" and \"Not Full Democratic\" on one hand and life expectancy on the other hand.\n",
    "For that purpose, compute a full greedy matching according to the Mahalanobis distance w.r.t population density and gdp per capita. Determine for yourself a reasonable threshold when no a match should be discarded (i.e., there is no suitable match for a country in the other group). Compare the life expectancy in the two groups."
   ]
  },
  {
   "cell_type": "code",
   "execution_count": 39,
   "metadata": {},
   "outputs": [],
   "source": [
    "def greedy_matching (df_dem, df_ntdem, calliper):\n",
    "    df_dem = df_dem.copy()\n",
    "    df_ntdem = df_ntdem.copy()\n",
    "    \n",
    "    matching = {}\n",
    "    for index_dem, values_dem in df_dem.iterrows():\n",
    "        mahalan = values_dem['MD']\n",
    "        df_ntdem [\"diff_dist\"] = np.abs(df_ntdem['MD'] - mahalan)\n",
    "        if np.min(df_ntdem ['diff_dist']) < calliper:\n",
    "            idxmin = df_ntdem['diff_dist'].idxmin()\n",
    "            matching[index_dem] = idxmin\n",
    "            df_ntdem.drop(idxmin, inplace=True)\n",
    "    return matching"
   ]
  },
  {
   "cell_type": "code",
   "execution_count": 40,
   "metadata": {},
   "outputs": [
    {
     "name": "stdout",
     "output_type": "stream",
     "text": [
      "Before Matching\n",
      "Life Expectancy for Full Democratic\n",
      "76.32902272542317\n",
      "Life Expectancy for Not Full Democratic\n",
      "68.42276553572896\n",
      "\n",
      "\n",
      "After Matching...\n",
      "For calliper  0.102761008704 , item matched 13\n",
      "Life Expectancy for Full Democratic 75.53932248629056\n",
      "Life Expectancy for Not Full Democratic 71.94059900137094\n",
      "Pearson Correlation -0.08144589511133957\n",
      "\n",
      "\n",
      "For calliper  0.205522017409 , item matched 14\n",
      "Life Expectancy for Full Democratic 75.77396992274693\n",
      "Life Expectancy for Not Full Democratic 71.85510335649762\n",
      "Pearson Correlation -0.09368733807069457\n",
      "\n",
      "\n",
      "For calliper  2.05522017409 , item matched 16\n",
      "Life Expectancy for Full Democratic 76.09826040267944\n",
      "Life Expectancy for Not Full Democratic 72.47446703910828\n",
      "Pearson Correlation -0.006443020117742793\n",
      "\n",
      "\n",
      "For calliper  3.08283026113 , item matched 16\n",
      "Life Expectancy for Full Democratic 76.09826040267944\n",
      "Life Expectancy for Not Full Democratic 72.47446703910828\n",
      "Pearson Correlation -0.006443020117742793\n",
      "\n",
      "\n",
      "For calliper  5.13805043522 , item matched 16\n",
      "Life Expectancy for Full Democratic 76.09826040267944\n",
      "Life Expectancy for Not Full Democratic 72.47446703910828\n",
      "Pearson Correlation -0.006443020117742793\n",
      "\n",
      "\n",
      "Analysing the above result, we can infer that life expectancy of people in full democratic countries is higher compared to the respective non democratic countries\n"
     ]
    }
   ],
   "source": [
    "print(\"Before Matching\")\n",
    "print(\"Life Expectancy for Full Democratic\")\n",
    "print(dem_df['wdi_lifexp'].mean())\n",
    "print(\"Life Expectancy for Not Full Democratic\")\n",
    "print(ntdem_df['wdi_lifexp'].mean())\n",
    "print('\\n')\n",
    "mahalanobis_std = np.std(MD_ntdem_df + MD_dem_df)\n",
    "\n",
    "#Various Thresholds for discarding a match\n",
    "calliper_range = [ 0.01,0.02,0.2, 0.3,0.5]\n",
    "\n",
    "print(\"After Matching...\")\n",
    "#Iterating through different calliper_range values\n",
    "for i in calliper_range:\n",
    "    calliper = i * mahalanobis_std\n",
    "    matching = greedy_matching(dem_df, ntdem_df, calliper)\n",
    "    df_matched_dem = dem_df.loc[matching.keys()]\n",
    "    df_matched_ntdem = ntdem_df.loc [matching.values()]\n",
    "    print(\"For calliper \",calliper,\", item matched\", len(matching))\n",
    "    print (\"Life Expectancy for Full Democratic\",df_matched_dem['wdi_lifexp'].mean())\n",
    "    print (\"Life Expectancy for Not Full Democratic\",df_matched_ntdem['wdi_lifexp'].mean())\n",
    "\n",
    "    \n",
    "    a=df_matched_dem['wdi_lifexp'].astype(int).ravel() \n",
    "    b=df_matched_ntdem['wdi_lifexp'].astype(int).ravel()\n",
    "    corr, p_value = pearsonr(a,b)\n",
    "    print('Pearson Correlation {}'.format(np.corrcoef(a,b)[0][1]))\n",
    "    print('\\n')\n",
    "\n",
    "\n",
    "print('Analysing the above result, we can infer that life expectancy of people in full democratic countries is higher compared to the respective non democratic countries')    "
   ]
  },
  {
   "cell_type": "markdown",
   "metadata": {},
   "source": [
    "# Schelling‘s Model of Segregation"
   ]
  },
  {
   "cell_type": "markdown",
   "metadata": {},
   "source": [
    "### a) Create grid\n",
    "Write a function create_grid (shape, share_red, share_blue) that returns a numpy array of the given shape (rows, columns). Cells with a red agent should be marked with the value 1, cells with a blue agent with value 2, empty cells with a 0.\n",
    "\n",
    "Naturally, share_red + share_blue < 1"
   ]
  },
  {
   "cell_type": "code",
   "execution_count": 41,
   "metadata": {},
   "outputs": [],
   "source": [
    "from numpy import array\n",
    "import random as ran\n",
    "import numpy as np\n",
    "\n",
    "def CreateGrid(shape, share_red , share_blue):    \n",
    "    if(share_red+share_blue<1):\n",
    "        share_empty=1-(share_red+share_blue)\n",
    "        arr_random=np.random.choice([0,1,2],(shape,shape),p=[share_empty,share_red,share_blue])\n",
    "    return arr_random"
   ]
  },
  {
   "cell_type": "markdown",
   "metadata": {
    "scrolled": true
   },
   "source": [
    "### b) Visualization\n",
    "\n",
    "Write a function visualize(grid) that take a numpy array with these properties and plots it. We recommend to use matplotlib for this"
   ]
  },
  {
   "cell_type": "code",
   "execution_count": 42,
   "metadata": {},
   "outputs": [
    {
     "name": "stdout",
     "output_type": "stream",
     "text": [
      "[[1 1 2 2 2 1 2 2 1 1 2 0 1 1 2]\n",
      " [0 1 2 2 2 2 0 1 2 1 2 1 1 2 0]\n",
      " [2 1 2 1 2 2 0 1 0 2 2 1 2 0 1]\n",
      " [2 1 1 1 1 2 2 1 2 2 2 0 1 2 2]\n",
      " [1 2 1 1 1 1 1 1 1 1 2 2 1 2 2]\n",
      " [1 0 2 1 2 2 1 1 2 1 1 1 2 2 2]\n",
      " [1 1 2 2 0 1 0 2 1 2 1 2 2 2 2]\n",
      " [1 1 2 1 2 1 1 1 2 2 0 2 1 1 1]\n",
      " [2 1 1 1 2 2 2 1 1 2 1 2 1 0 2]\n",
      " [2 2 1 1 2 0 1 1 1 1 1 2 1 2 0]\n",
      " [2 2 1 1 2 1 2 2 2 1 1 2 2 1 1]\n",
      " [1 1 1 0 0 1 2 1 2 2 2 0 2 2 1]\n",
      " [2 1 2 1 2 1 1 2 2 2 2 1 0 1 2]\n",
      " [2 2 2 1 2 2 1 0 2 2 1 2 1 2 1]\n",
      " [2 1 2 2 1 1 1 2 2 1 2 1 2 2 2]]\n"
     ]
    },
    {
     "data": {
      "image/png": "[encoded data removed]",
      "text/plain": [
       "<Figure size 432x288 with 1 Axes>"
      ]
     },
     "metadata": {
      "needs_background": "light"
     },
     "output_type": "display_data"
    }
   ],
   "source": [
    "import matplotlib.pyplot as plt\n",
    "import matplotlib as mpl\n",
    "\n",
    "def visualize(grid):\n",
    "    \n",
    "    mapcolor = mpl.colors.ListedColormap(['w','r','b'])\n",
    "    mapcolor.set_over('2')\n",
    "    mapcolor.set_under('0')\n",
    "\n",
    "    plt.imshow(grid,cmap=mapcolor)   \n",
    "    print(grid)\n",
    "    plt.show()\n",
    "\n",
    "    \n",
    "grid=CreateGrid(15,0.45,0.45)\n",
    "visualize(grid)"
   ]
  },
  {
   "cell_type": "markdown",
   "metadata": {},
   "source": [
    "### c) Simulation Step\n",
    "\n",
    "Simulate a single step (potential movement of a single randomly picked agent) of the Schelling model with a function simulate(grid, preferred_proportion)"
   ]
  },
  {
   "cell_type": "code",
   "execution_count": 43,
   "metadata": {},
   "outputs": [
    {
     "name": "stdout",
     "output_type": "stream",
     "text": [
      "[[1 1 2 2 2 1 2 2 1 2 1 2 1 1 2]\n",
      " [1 2 2 2 2 2 1 2 2 2 2 1 1 1 1]\n",
      " [1 1 1 2 2 2 2 1 2 2 2 2 2 1 1]\n",
      " [2 1 1 1 1 2 2 1 2 2 2 2 1 2 2]\n",
      " [1 2 1 1 1 1 1 1 1 2 2 2 1 2 2]\n",
      " [1 1 2 1 1 1 1 1 2 1 1 2 2 2 2]\n",
      " [1 1 1 1 1 1 2 2 1 1 1 2 2 2 2]\n",
      " [1 1 2 1 1 1 1 1 0 2 2 2 2 1 1]\n",
      " [1 1 1 1 0 2 2 1 1 1 2 2 0 2 2]\n",
      " [2 0 1 1 1 2 0 1 1 1 1 2 2 2 0]\n",
      " [2 1 1 1 2 0 2 2 1 1 1 2 2 2 1]\n",
      " [1 1 1 1 1 0 2 0 2 2 2 2 2 2 1]\n",
      " [1 0 0 0 2 0 1 2 2 2 2 1 0 1 2]\n",
      " [2 2 2 1 2 1 1 0 2 2 1 2 0 2 0]\n",
      " [2 0 2 2 1 1 1 2 2 0 2 0 2 2 2]]\n"
     ]
    },
    {
     "data": {
      "image/png": "[encoded data removed]",
      "text/plain": [
       "<Figure size 432x288 with 1 Axes>"
      ]
     },
     "metadata": {
      "needs_background": "light"
     },
     "output_type": "display_data"
    }
   ],
   "source": [
    "import random\n",
    "\n",
    "#identifying the location of empty slots in grid\n",
    "def empty_slots(grid):\n",
    "    result = np.where(grid == 0)\n",
    "    empty_list = list(zip(result[0], result[1]))\n",
    "    return empty_list\n",
    "\n",
    "\n",
    "#method to simulate movement of single agent to a empty slot when it doesn't meet PP\n",
    "#written in a way to reuse the method for multiple steps agent movement\n",
    "#returns a flag that indicates if the current agent has moved in the grid after the simulate\n",
    "def simulate_single(grid, pp):\n",
    "    \n",
    "    empty_list = empty_slots(grid)\n",
    "    changes_happened = False;\n",
    "    for (i, j), value in np.ndenumerate(grid):\n",
    "    \n",
    "            current_agent = grid[i][j]\n",
    "            same_counter = 0;\n",
    "            diff_counter = 0;\n",
    "            empty_agent = 0;\n",
    "            \n",
    "            #continue if the selected grid location is an empty slot\n",
    "            if grid[i][j] == 0:\n",
    "                continue;\n",
    "            \n",
    "            #conditions checking the surrounding vertices for a given agent - 8 at max, 3 near the edges.\n",
    "            #inner if to check if the agent matches the neighbouring agent\n",
    "            #inner else to check if the neighbouring agent is not an empty agent\n",
    "            \n",
    "            if i > 0 and j > 0:\n",
    "                if grid[i-1][j-1] == current_agent:\n",
    "                    same_counter+=1;\n",
    "                elif grid[i-1][j-1] != empty_agent:\n",
    "                    diff_counter+=1;\n",
    "                    \n",
    "            if i > 0:\n",
    "                if grid[i-1][j] == current_agent:\n",
    "                    same_counter+=1;\n",
    "                elif grid[i-1][j] != empty_agent:\n",
    "                    diff_counter+=1;\n",
    "            \n",
    "            if j > 0:\n",
    "                if grid[i][j-1] == current_agent:\n",
    "                    same_counter+=1;\n",
    "                elif grid[i][j-1] != empty_agent:\n",
    "                    diff_counter+=1;\n",
    "                   \n",
    "            if i < (grid.shape[0]-1) and j > 0:\n",
    "                if grid[i+1][j-1] == current_agent:\n",
    "                    same_counter+=1;\n",
    "                elif grid[i+1][j-1] != empty_agent:\n",
    "                    diff_counter+=1;\n",
    "                           \n",
    "            if i < (grid.shape[0]-1):\n",
    "                if grid[i+1][j] == current_agent:\n",
    "                    same_counter+=1;\n",
    "                elif grid[i+1][j] != empty_agent:\n",
    "                    diff_counter+=1;\n",
    "                    \n",
    "            if i > 0 and j < (grid.shape[1]-1):\n",
    "                if grid[(i-1,j+1)] == current_agent:\n",
    "                    same_counter += 1\n",
    "                elif grid[(i-1,j+1)] != empty_agent:\n",
    "                    diff_counter += 1\n",
    "                    \n",
    "            if j < (grid.shape[1]-1):\n",
    "                if grid[(i,j+1)] == current_agent:\n",
    "                    same_counter += 1\n",
    "                elif grid[(i,j+1)] != empty_agent:\n",
    "                    diff_counter += 1\n",
    "                    \n",
    "            if i < (grid.shape[0]-1) and j < (grid.shape[1]-1):\n",
    "                if grid[(i+1,j+1)] == current_agent:\n",
    "                    same_counter += 1\n",
    "                elif grid[(i+1,j+1)] != empty_agent:\n",
    "                    diff_counter += 1            \n",
    "            \n",
    "            #happens if the agent is an empty agent\n",
    "            if(same_counter+diff_counter == 0):\n",
    "                continue;\n",
    "            \n",
    "            #compare the pp value against the obtained ratio\n",
    "            elif(float(same_counter)/(same_counter+diff_counter) < pp):\n",
    "                \n",
    "                #picking an empty spot and replacing it with current agent\n",
    "                #adding current agent location to empty slot\n",
    "                rand = random.randint(0,(len(empty_list)-1))\n",
    "                index = empty_list[rand]     \n",
    "                grid[index[0]][index[1]] = grid[i][j]\n",
    "                grid[i][j] = 0\n",
    "                del empty_list[rand]\n",
    "                empty_list.append((i,j))\n",
    "                changes_happened = True;\n",
    "                \n",
    "    return changes_happened;\n",
    "\n",
    "simulate_single(grid, 0.5)\n",
    "visualize(grid)"
   ]
  },
  {
   "cell_type": "markdown",
   "metadata": {},
   "source": [
    "### d) Full Simulation\n",
    "\n",
    "Write a function simulate(grid, preferred_proportion, max_steps, no_changes_steps, iterations_to_next_vizualization) that performs a full simulation of Schelling's model given a specific start state by performing steps until the maximum number of steps is reached or the was no change for the given amount of steps. Every iterations_to_next_vizualization steps, a visualization of the model should be plotted.\n"
   ]
  },
  {
   "cell_type": "code",
   "execution_count": 44,
   "metadata": {},
   "outputs": [
    {
     "name": "stdout",
     "output_type": "stream",
     "text": [
      "[[1 1 1 2 2 2 2 2 2 2 1 1 1 1 1]\n",
      " [1 1 0 2 2 2 2 2 2 2 0 1 1 1 1]\n",
      " [1 1 1 1 1 2 1 2 2 2 1 0 1 1 1]\n",
      " [1 1 1 1 1 1 1 0 2 2 2 0 0 0 0]\n",
      " [1 1 1 1 1 1 1 1 0 2 2 2 2 2 2]\n",
      " [1 1 1 1 1 1 1 1 1 0 2 2 2 2 2]\n",
      " [1 1 1 1 1 1 1 1 0 2 2 2 2 2 2]\n",
      " [1 1 1 1 1 1 1 1 2 2 2 2 2 2 2]\n",
      " [1 1 1 1 1 1 2 0 2 2 2 2 2 2 2]\n",
      " [1 1 1 1 1 0 0 2 2 2 2 2 2 2 2]\n",
      " [1 1 1 1 1 0 2 2 2 2 2 2 2 2 2]\n",
      " [1 1 1 1 1 0 2 2 2 2 2 2 2 2 2]\n",
      " [1 1 1 1 1 0 2 2 2 2 2 2 2 2 2]\n",
      " [1 1 1 1 1 0 2 2 2 2 2 2 2 2 2]\n",
      " [0 1 1 1 1 0 2 2 2 2 2 2 2 2 2]]\n"
     ]
    },
    {
     "data": {
      "image/png": "[encoded data removed]",
      "text/plain": [
       "<Figure size 432x288 with 1 Axes>"
      ]
     },
     "metadata": {
      "needs_background": "light"
     },
     "output_type": "display_data"
    },
    {
     "name": "stdout",
     "output_type": "stream",
     "text": [
      "[[1 1 1 1 1 2 2 2 2 0 1 1 1 1 1]\n",
      " [1 1 1 1 2 0 2 2 2 0 1 1 1 1 1]\n",
      " [1 1 1 1 1 1 0 2 2 2 0 0 1 1 1]\n",
      " [1 1 1 1 1 1 0 2 2 2 2 2 0 1 0]\n",
      " [1 1 1 1 1 1 1 0 2 2 2 2 2 2 2]\n",
      " [1 1 1 1 1 1 1 0 2 2 2 2 2 2 2]\n",
      " [1 1 1 1 1 1 1 0 2 2 2 2 2 2 2]\n",
      " [1 1 1 1 1 1 1 0 2 2 2 2 2 2 2]\n",
      " [1 1 1 1 1 1 0 2 2 2 2 2 2 2 2]\n",
      " [1 1 1 1 1 0 2 2 2 2 2 2 2 2 2]\n",
      " [1 1 1 1 1 0 2 2 2 2 2 2 2 2 2]\n",
      " [1 1 1 1 1 0 2 2 2 2 2 2 2 2 2]\n",
      " [1 1 1 1 1 0 2 2 2 2 2 2 2 2 2]\n",
      " [1 1 1 1 1 0 2 2 2 2 2 2 2 2 2]\n",
      " [1 1 1 1 1 0 2 2 2 2 2 2 2 2 2]]\n"
     ]
    },
    {
     "data": {
      "image/png": "[encoded data removed]",
      "text/plain": [
       "<Figure size 432x288 with 1 Axes>"
      ]
     },
     "metadata": {
      "needs_background": "light"
     },
     "output_type": "display_data"
    },
    {
     "name": "stdout",
     "output_type": "stream",
     "text": [
      "[[1 1 1 1 1 0 2 2 2 0 1 1 1 1 1]\n",
      " [1 1 1 1 1 0 2 2 2 1 0 1 1 1 1]\n",
      " [1 1 1 1 1 1 0 2 2 2 2 1 0 0 0]\n",
      " [1 1 1 1 1 1 1 0 2 2 2 2 0 2 2]\n",
      " [1 1 1 1 1 1 1 0 2 2 2 2 2 2 2]\n",
      " [1 1 1 1 1 1 1 0 2 2 2 2 2 2 2]\n",
      " [1 1 1 1 1 1 1 0 2 2 2 2 2 2 2]\n",
      " [1 1 1 1 1 1 0 2 2 2 2 2 2 2 2]\n",
      " [1 1 1 1 1 1 1 2 2 2 2 2 2 2 2]\n",
      " [1 1 1 1 1 1 0 2 2 2 2 2 2 2 2]\n",
      " [1 1 1 1 1 0 2 2 2 2 2 2 2 2 2]\n",
      " [1 1 1 1 1 0 2 2 2 2 2 2 2 2 2]\n",
      " [1 1 1 1 1 0 2 2 2 2 2 2 2 2 2]\n",
      " [1 1 1 1 1 0 2 2 2 2 2 2 2 2 2]\n",
      " [1 1 1 1 1 0 2 2 2 2 2 2 2 2 2]]\n"
     ]
    },
    {
     "data": {
      "image/png": "[encoded data removed]",
      "text/plain": [
       "<Figure size 432x288 with 1 Axes>"
      ]
     },
     "metadata": {
      "needs_background": "light"
     },
     "output_type": "display_data"
    },
    {
     "name": "stdout",
     "output_type": "stream",
     "text": [
      "[[1 1 1 1 1 1 0 2 2 2 0 1 1 1 1]\n",
      " [1 1 1 1 1 1 1 2 2 2 0 0 1 1 1]\n",
      " [1 1 1 1 1 1 1 2 2 2 2 0 0 2 1]\n",
      " [1 1 1 1 1 1 0 2 2 2 2 2 0 2 2]\n",
      " [1 1 1 1 1 1 0 0 2 2 2 2 2 2 2]\n",
      " [1 1 1 1 1 1 1 0 2 2 2 2 2 2 2]\n",
      " [1 1 1 1 1 1 1 0 2 2 2 2 2 2 2]\n",
      " [1 1 1 1 1 1 1 0 2 2 2 2 2 2 2]\n",
      " [1 1 1 1 1 1 1 0 2 2 2 2 2 2 2]\n",
      " [1 1 1 1 1 1 0 2 2 2 2 2 2 2 2]\n",
      " [1 1 1 1 1 0 2 2 2 2 2 2 2 2 2]\n",
      " [1 1 1 1 1 0 2 2 2 2 2 2 2 2 2]\n",
      " [1 1 1 1 1 0 2 2 2 2 2 2 2 2 2]\n",
      " [1 1 1 1 1 0 2 2 2 2 2 2 2 2 2]\n",
      " [1 1 1 1 1 0 2 2 2 2 2 2 2 2 2]]\n"
     ]
    },
    {
     "data": {
      "image/png": "[encoded data removed]",
      "text/plain": [
       "<Figure size 432x288 with 1 Axes>"
      ]
     },
     "metadata": {
      "needs_background": "light"
     },
     "output_type": "display_data"
    },
    {
     "name": "stdout",
     "output_type": "stream",
     "text": [
      "[[1 1 1 1 1 1 0 2 2 2 1 1 1 1 1]\n",
      " [1 1 1 1 1 1 0 2 2 2 0 0 1 1 1]\n",
      " [1 1 1 1 1 1 0 2 2 2 2 2 0 2 0]\n",
      " [1 1 1 1 1 1 0 0 2 2 2 2 2 2 2]\n",
      " [1 1 1 1 1 1 1 0 2 2 2 2 2 2 2]\n",
      " [1 1 1 1 1 1 1 0 2 2 2 2 2 2 2]\n",
      " [1 1 1 1 1 1 1 0 2 2 2 2 2 2 2]\n",
      " [1 1 1 1 1 1 1 0 2 2 2 2 2 2 2]\n",
      " [1 1 1 1 1 1 1 0 2 2 2 2 2 2 2]\n",
      " [1 1 1 1 1 1 0 2 2 2 2 2 2 2 2]\n",
      " [1 1 1 1 1 1 0 2 2 2 2 2 2 2 2]\n",
      " [1 1 1 1 1 0 2 2 2 2 2 2 2 2 2]\n",
      " [1 1 1 1 1 0 2 2 2 2 2 2 2 2 2]\n",
      " [1 1 1 1 1 0 2 2 2 2 2 2 2 2 2]\n",
      " [1 1 1 1 1 0 2 2 2 2 2 2 2 2 2]]\n"
     ]
    },
    {
     "data": {
      "image/png": "[encoded data removed]",
      "text/plain": [
       "<Figure size 432x288 with 1 Axes>"
      ]
     },
     "metadata": {
      "needs_background": "light"
     },
     "output_type": "display_data"
    },
    {
     "name": "stdout",
     "output_type": "stream",
     "text": [
      "[[1 1 1 1 1 1 0 2 2 2 2 0 1 1 1]\n",
      " [1 1 1 1 1 1 0 2 2 2 2 0 1 1 1]\n",
      " [1 1 1 1 1 1 2 2 2 2 2 2 0 0 0]\n",
      " [1 1 1 1 1 1 2 2 2 2 2 2 2 2 2]\n",
      " [1 1 1 1 1 1 0 1 2 2 2 2 2 2 2]\n",
      " [1 1 1 1 1 1 1 0 2 2 2 2 2 2 2]\n",
      " [1 1 1 1 1 1 1 0 2 2 2 2 2 2 2]\n",
      " [1 1 1 1 1 1 1 0 2 2 2 2 2 2 2]\n",
      " [1 1 1 1 1 1 1 0 2 2 2 2 2 2 2]\n",
      " [1 1 1 1 1 1 1 0 2 2 2 2 2 2 2]\n",
      " [1 1 1 1 1 1 0 0 2 2 2 2 2 2 2]\n",
      " [1 1 1 1 1 1 0 2 2 2 2 2 2 2 2]\n",
      " [1 1 1 1 1 0 0 2 2 2 2 2 2 2 2]\n",
      " [1 1 1 1 1 0 2 2 2 2 2 2 2 2 2]\n",
      " [1 1 1 1 1 0 2 2 2 2 2 2 2 2 2]]\n"
     ]
    },
    {
     "data": {
      "image/png": "[encoded data removed]",
      "text/plain": [
       "<Figure size 432x288 with 1 Axes>"
      ]
     },
     "metadata": {
      "needs_background": "light"
     },
     "output_type": "display_data"
    },
    {
     "name": "stdout",
     "output_type": "stream",
     "text": [
      "[[1 1 1 1 1 1 0 2 2 2 2 0 1 1 1]\n",
      " [1 1 1 1 1 1 1 2 2 2 2 0 1 1 1]\n",
      " [1 1 1 1 1 1 0 2 2 2 2 2 0 0 0]\n",
      " [1 1 1 1 1 1 0 2 2 2 2 2 2 2 2]\n",
      " [1 1 1 1 1 1 0 0 2 2 2 2 2 2 2]\n",
      " [1 1 1 1 1 1 1 0 2 2 2 2 2 2 2]\n",
      " [1 1 1 1 1 1 1 0 2 2 2 2 2 2 2]\n",
      " [1 1 1 1 1 1 1 0 2 2 2 2 2 2 2]\n",
      " [1 1 1 1 1 1 1 0 2 2 2 2 2 2 2]\n",
      " [1 1 1 1 1 1 1 2 2 2 2 2 2 2 2]\n",
      " [1 1 1 1 1 1 0 2 2 2 2 2 2 2 2]\n",
      " [1 1 1 1 1 1 0 2 2 2 2 2 2 2 2]\n",
      " [1 1 1 1 1 0 0 2 2 2 2 2 2 2 2]\n",
      " [1 1 1 1 1 0 2 2 2 2 2 2 2 2 2]\n",
      " [1 1 1 1 1 0 2 2 2 2 2 2 2 2 2]]\n"
     ]
    },
    {
     "data": {
      "image/png": "[encoded data removed]",
      "text/plain": [
       "<Figure size 432x288 with 1 Axes>"
      ]
     },
     "metadata": {
      "needs_background": "light"
     },
     "output_type": "display_data"
    },
    {
     "name": "stdout",
     "output_type": "stream",
     "text": [
      "Maximum no change steps reached\n"
     ]
    }
   ],
   "source": [
    "#method to simulate number of given steps, or till there is no changes for specified number of steps\n",
    "def simulate(grid, preferred_proportion, max_steps, no_changes_steps, iterations_to_next_vizualization):\n",
    "    no_changes_count = 0;\n",
    "    for i in range(max_steps):\n",
    "        \n",
    "        #counter update - to check if there is any changes made after the simulate\n",
    "        if(simulate_single(grid, preferred_proportion)==False):\n",
    "            no_changes_count+=1\n",
    "        else:\n",
    "            no_changes_count=0\n",
    "    \n",
    "        #to see if there is no changes happening for a specified number of steps\n",
    "        if(no_changes_count == no_changes_steps):\n",
    "            print(\"Maximum no change steps reached\")\n",
    "            break;\n",
    "            \n",
    "        #to generate a grid visualization after specified number of iterations\n",
    "        if((i+1)%iterations_to_next_vizualization == 0):\n",
    "            visualize(grid)\n",
    "            \n",
    "simulate(grid, 0.7, 150, 5, 10)"
   ]
  },
  {
   "cell_type": "markdown",
   "metadata": {},
   "source": [
    "### e) Model Extension\n",
    "\n",
    "Edit your functions such that they support multiple groups (instead of just red and blue), and each group can have a separate preferred proportion. Use for this the following signatures\n",
    "\n",
    "create_grid (shape, shares): percentages should be a list of shares for each color\n",
    "visualize(grid) => choose appropriate colors\n",
    "Simulate a single step (potential movement of a single randomly picked agent) of the Schelling model with a function simulate(grid, preferred_proportions) => Gives a list of preferred proportions for each color.\n"
   ]
  },
  {
   "cell_type": "code",
   "execution_count": 45,
   "metadata": {},
   "outputs": [
    {
     "name": "stdout",
     "output_type": "stream",
     "text": [
      "[[0 0 1 1 3 0 0 0 0 1 0 0 1 1 0 1 3 0 1 2]\n",
      " [1 1 0 0 1 2 0 2 0 2 0 0 0 0 0 2 1 0 1 1]\n",
      " [3 1 0 1 0 0 2 3 1 1 0 2 2 1 1 0 1 0 0 0]\n",
      " [2 1 0 0 0 2 1 1 0 2 1 2 0 3 0 0 1 3 2 3]\n",
      " [1 1 3 3 0 1 1 1 0 1 2 0 1 0 0 1 2 1 0 1]\n",
      " [2 2 3 1 0 0 3 0 0 3 1 0 3 0 0 2 1 3 0 3]\n",
      " [3 0 1 2 2 1 2 3 3 0 1 0 1 0 1 2 0 0 2 1]\n",
      " [3 1 1 1 2 0 2 1 0 2 3 0 1 0 2 1 0 0 2 0]\n",
      " [2 3 1 0 0 2 3 3 0 0 1 0 0 0 2 1 0 1 1 3]\n",
      " [1 1 0 2 0 0 0 2 3 3 0 0 2 0 1 1 0 1 2 2]\n",
      " [1 1 0 0 1 3 2 0 2 2 0 1 0 0 0 0 0 3 0 0]\n",
      " [3 2 2 2 0 0 0 0 3 0 0 0 0 0 1 0 0 0 1 2]\n",
      " [0 1 2 2 0 0 1 0 2 2 1 2 1 1 1 3 0 0 0 0]\n",
      " [1 0 2 3 2 0 1 0 3 2 0 1 2 2 1 0 2 3 2 2]\n",
      " [0 2 0 2 1 0 1 2 2 2 2 0 2 2 1 0 0 3 1 0]\n",
      " [3 2 0 1 1 2 1 0 2 2 1 0 0 3 1 0 0 1 2 1]\n",
      " [0 0 3 1 3 1 1 2 0 3 0 0 0 2 3 0 1 3 0 1]\n",
      " [0 0 2 1 1 0 1 1 1 3 1 0 1 1 1 2 0 2 0 0]\n",
      " [3 1 0 0 2 1 0 1 1 2 0 0 2 2 2 3 0 0 1 1]\n",
      " [2 2 3 1 2 1 1 3 0 1 0 0 0 2 0 1 0 2 2 1]]\n"
     ]
    },
    {
     "data": {
      "image/png": "[encoded data removed]",
      "text/plain": [
       "<Figure size 432x288 with 1 Axes>"
      ]
     },
     "metadata": {
      "needs_background": "light"
     },
     "output_type": "display_data"
    },
    {
     "name": "stdout",
     "output_type": "stream",
     "text": [
      "[[2 1 2 2 2 0 0 0 1 1 0 0 1 1 0 0 1 1 2 1]\n",
      " [1 1 0 0 1 1 0 1 1 1 0 0 0 0 0 2 2 0 2 1]\n",
      " [1 1 0 2 0 0 1 2 0 2 0 2 1 1 1 0 2 0 0 0]\n",
      " [2 1 0 0 0 2 1 1 0 1 1 1 0 1 0 0 2 2 1 1]\n",
      " [1 2 1 1 0 1 1 2 0 1 2 0 1 0 0 2 0 1 0 1]\n",
      " [2 2 2 2 0 0 2 0 0 1 1 0 1 0 0 1 1 1 0 1]\n",
      " [2 2 2 2 1 1 2 1 0 0 1 0 2 0 0 2 0 0 1 1]\n",
      " [1 1 0 2 1 0 2 1 0 2 1 0 2 0 2 2 0 0 2 0]\n",
      " [1 2 2 0 0 1 2 1 0 0 1 0 0 0 1 1 0 0 2 0]\n",
      " [1 2 0 2 0 0 0 1 0 1 0 0 1 0 0 0 0 1 1 0]\n",
      " [1 2 0 0 0 2 1 0 1 1 0 2 0 0 0 0 0 1 0 2]\n",
      " [0 1 2 2 0 0 0 0 1 0 0 0 0 0 0 0 0 0 1 1]\n",
      " [0 0 2 2 0 0 0 0 2 0 2 1 1 2 1 2 0 0 0 1]\n",
      " [1 0 2 1 1 0 1 0 0 2 0 1 2 2 2 0 0 2 1 0]\n",
      " [1 0 0 1 0 0 0 1 2 2 2 1 2 2 0 0 0 0 0 0]\n",
      " [0 1 0 1 1 1 1 0 2 2 0 0 0 2 1 0 0 0 0 1]\n",
      " [0 0 1 0 1 0 0 0 1 2 0 0 0 1 0 0 0 1 0 0]\n",
      " [0 0 0 1 1 0 0 0 1 1 1 0 0 0 1 0 0 0 0 0]\n",
      " [0 1 0 0 0 0 0 0 0 2 0 0 2 2 2 2 0 0 0 1]\n",
      " [2 2 2 0 2 0 0 0 0 0 0 0 0 2 0 0 0 2 2 0]]\n"
     ]
    },
    {
     "data": {
      "image/png": "[encoded data removed]",
      "text/plain": [
       "<Figure size 432x288 with 1 Axes>"
      ]
     },
     "metadata": {
      "needs_background": "light"
     },
     "output_type": "display_data"
    }
   ],
   "source": [
    "#method to create grid with more than two segregations\n",
    "def create_grid_multiple(shape, shares):\n",
    "    share_empty=1-sum(shares)\n",
    "    shares.append(share_empty)\n",
    "    grid=np.random.choice(range(0, len(shares)),(shape,shape),p=shares)\n",
    "    return grid\n",
    "\n",
    "#method to visualize grid with multiple agents\n",
    "def visualize_multiple(grid):    \n",
    "    colors = ['b', 'g', 'r', 'c', 'm', 'y', 'k', 'w'];\n",
    "    mapcolor = mpl.colors.ListedColormap(colors[:len(np.unique(grid))])\n",
    "    plt.imshow(grid,cmap=mapcolor)   \n",
    "    print(grid)\n",
    "    plt.show()\n",
    "\n",
    "#method to identify the empty slots in the grid\n",
    "def empty_slots_multiple(grid):\n",
    "    result = np.where(grid == np.unique(grid)[-1])\n",
    "    empty_list = list(zip(result[0], result[1]))\n",
    "    return empty_list\n",
    "    \n",
    "#method to simulate movement of a single step in a grid with multiple agents\n",
    "def simulate(grid, preferred_proportions):\n",
    "    \n",
    "    empty_list = empty_slots_multiple(grid)\n",
    "    changes_happened = False;\n",
    "\n",
    "    for (i, j), value in np.ndenumerate(grid):\n",
    "    \n",
    "            current_agent = grid[i][j]\n",
    "            same_counter = 0;\n",
    "            diff_counter = 0;\n",
    "            empty_agent = np.unique(grid)[-1];\n",
    "                        \n",
    "            if grid[i][j] == empty_agent:\n",
    "                continue;\n",
    "            \n",
    "            if i > 0 and j > 0:\n",
    "                if grid[i-1][j-1] == current_agent:\n",
    "                    same_counter+=1;\n",
    "                elif grid[i-1][j-1] != empty_agent:\n",
    "                    diff_counter+=1;\n",
    "                    \n",
    "            if i > 0:\n",
    "                if grid[i-1][j] == current_agent:\n",
    "                    same_counter+=1;\n",
    "                elif grid[i-1][j] != empty_agent:\n",
    "                    diff_counter+=1;\n",
    "            \n",
    "            if j > 0:\n",
    "                if grid[i][j-1] == current_agent:\n",
    "                    same_counter+=1;\n",
    "                elif grid[i][j-1] != empty_agent:\n",
    "                    diff_counter+=1;\n",
    "                   \n",
    "            if i < (grid.shape[0]-1) and j > 0:\n",
    "                if grid[i+1][j-1] == current_agent:\n",
    "                    same_counter+=1;\n",
    "                elif grid[i+1][j-1] != empty_agent:\n",
    "                    diff_counter+=1;\n",
    "                           \n",
    "            if i < (grid.shape[0]-1):\n",
    "                if grid[i+1][j] == current_agent:\n",
    "                    same_counter+=1;\n",
    "                elif grid[i+1][j] != empty_agent:\n",
    "                    diff_counter+=1;\n",
    "                    \n",
    "            if i > 0 and j < (grid.shape[1]-1):\n",
    "                if grid[(i-1,j+1)] == current_agent:\n",
    "                    same_counter += 1\n",
    "                elif grid[(i-1,j+1)] != empty_agent:\n",
    "                    diff_counter += 1\n",
    "                    \n",
    "            if j < (grid.shape[1]-1):\n",
    "                if grid[(i,j+1)] == current_agent:\n",
    "                    same_counter += 1\n",
    "                elif grid[(i,j+1)] != empty_agent:\n",
    "                    diff_counter += 1\n",
    "                    \n",
    "            if i < (grid.shape[0]-1) and j < (grid.shape[1]-1):\n",
    "                if grid[(i+1,j+1)] == current_agent:\n",
    "                    same_counter += 1\n",
    "                elif grid[(i+1,j+1)] != empty_agent:\n",
    "                    diff_counter += 1        \n",
    "\n",
    "            #checking the calculated value against the pp value of a specific agent passed as parameter\n",
    "            if(float(same_counter)/(same_counter+diff_counter) < preferred_proportions[current_agent]):\n",
    "                \n",
    "                rand = random.randint(0,(len(empty_list)-1))\n",
    "                index = empty_list[rand]\n",
    "                \n",
    "                grid[index[0]][index[1]] = grid[i][j]\n",
    "                grid[i][j] = 0\n",
    "                del empty_list[rand]\n",
    "                empty_list.append((i,j))\n",
    "    \n",
    "    \n",
    "grid=create_grid_multiple(20, [0.4,0.3,0.2])\n",
    "visualize_multiple(grid)\n",
    "simulate(grid,[0.5, 0.6, 0.3])\n",
    "visualize_multiple(grid)"
   ]
  },
  {
   "cell_type": "code",
   "execution_count": null,
   "metadata": {},
   "outputs": [],
   "source": []
  }
 ],
 "metadata": {
  "kernel_info": {
   "name": "python3"
  },
  "kernelspec": {
   "display_name": "Python 3",
   "language": "python",
   "name": "python3"
  },
  "language_info": {
   "codemirror_mode": {
    "name": "ipython",
    "version": 3
   },
   "file_extension": ".py",
   "mimetype": "text/x-python",
   "name": "python",
   "nbconvert_exporter": "python",
   "pygments_lexer": "ipython3",
   "version": "3.7.0"
  },
  "nteract": {
   "version": "0.12.3"
  }
 },
 "nbformat": 4,
 "nbformat_minor": 2
}
